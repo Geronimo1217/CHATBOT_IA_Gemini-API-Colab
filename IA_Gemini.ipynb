{
  "nbformat": 4,
  "nbformat_minor": 0,
  "metadata": {
    "colab": {
      "provenance": [],
      "toc_visible": true,
      "authorship_tag": "ABX9TyPujJodZBIdNcumuDQeTajG",
      "include_colab_link": true
    },
    "kernelspec": {
      "name": "python3",
      "display_name": "Python 3"
    },
    "language_info": {
      "name": "python"
    }
  },
  "cells": [
    {
      "cell_type": "markdown",
      "metadata": {
        "id": "view-in-github",
        "colab_type": "text"
      },
      "source": [
        "<a href=\"https://colab.research.google.com/github/Geronimo1217/CHATBOT_IA_Gemini-API-Colab/blob/Guardar-teci_nformatica/IA_Gemini.ipynb\" target=\"_parent\"><img src=\"https://colab.research.google.com/assets/colab-badge.svg\" alt=\"Open In Colab\"/></a>"
      ]
    },
    {
      "cell_type": "code",
      "execution_count": null,
      "metadata": {
        "id": "EILKnKnmKMcm"
      },
      "outputs": [],
      "source": []
    },
    {
      "cell_type": "code",
      "source": [],
      "metadata": {
        "id": "iS3cMGKoQq-b"
      },
      "execution_count": null,
      "outputs": []
    },
    {
      "cell_type": "code",
      "source": [
        "#Aula 03 Jogo de Adivilha\n",
        "import requests\n",
        "import random\n",
        "url= \"https://raw.githubusercontent.com/guilhermeonrails/api-imersao-ia/main/words.json\"\n",
        "resposta=requests.get(url)\n",
        "data=resposta.json()\n",
        "len(data)\n",
        "valor_secreto = random.choice(data)\n",
        "palavra_secreta = valor_secreto['palavra']\n",
        "dica = valor_secreto['dica']\n",
        "print ( f'A palavra secreta tem { len ( palavra_secreta ) } letras' )\n",
        "print ( f'A dica é -> { dica } ' )\n",
        "chute  =  input ( 'O que você acha que é ? :' )\n",
        "if  chute  ==  palavra_secreta :\n",
        "  print ( 'Acertou' )\n",
        "else:\n",
        "  print ( f'Errou.. a palavra secreta era { palavra_secreta } ' )\n"
      ],
      "metadata": {
        "id": "LjgpnXIEKWBZ"
      },
      "execution_count": null,
      "outputs": []
    },
    {
      "cell_type": "code",
      "source": [
        "# AULA 04 Criando o CHATBOT do zero\n",
        "#Instalando o SDK do Google\n",
        "!pip install -q -U google-generativeai"
      ],
      "metadata": {
        "id": "LUYayUv8UOvX"
      },
      "execution_count": 1,
      "outputs": []
    },
    {
      "cell_type": "code",
      "source": [
        "#Configurações iniciais\n",
        "import google.generativeai as genai\n",
        "\n",
        "GOOGLE_API_KEY=\""INSIRA_SUA_API_KEY",
        "genai.configure(api_key=GOOGLE_API_KEY)"
      ],
      "metadata": {
        "id": "iK99aCk8ny2j"
      },
      "execution_count": 3,
      "outputs": []
    },
    {
      "cell_type": "code",
      "source": [
        "#Listando os modelos disponíveis\n",
        "for m in genai.list_models():\n",
        "  if 'generateContent' in m.supported_generation_methods:\n",
        "    print(m.name)"
      ],
      "metadata": {
        "id": "jbZkVJC9odVw"
      },
      "execution_count": null,
      "outputs": []
    },
    {
      "cell_type": "code",
      "source": [
        "generation_config = {\n",
        "  \"candidate_count\": 1,\n",
        "  \"temperature\": 0.5,\n",
        "}"
      ],
      "metadata": {
        "id": "ctiqPlLwo7z-"
      },
      "execution_count": 5,
      "outputs": []
    },
    {
      "cell_type": "code",
      "source": [
        "safety_settings={\n",
        "    'HATE': 'BLOCK_NONE',\n",
        "    'HARASSMENT': 'BLOCK_NONE',\n",
        "    'SEXUAL' : 'BLOCK_NONE',\n",
        "    'DANGEROUS' : 'BLOCK_NONE'\n",
        "    }"
      ],
      "metadata": {
        "id": "89IcZSXCpCeS"
      },
      "execution_count": 6,
      "outputs": []
    },
    {
      "cell_type": "code",
      "source": [
        "model = genai.GenerativeModel(model_name='gemini-1.0-pro',\n",
        "                                  generation_config=generation_config,\n",
        "                                  safety_settings=safety_settings,)"
      ],
      "metadata": {
        "id": "TIqvSvVgpNiJ"
      },
      "execution_count": 7,
      "outputs": []
    },
    {
      "cell_type": "code",
      "source": [
        "response = model.generate_content(\"Que empresa criou o modelo de IA Gemini? e porque ?\")\n",
        "response.text"
      ],
      "metadata": {
        "id": "D5pBffNEpOkr"
      },
      "execution_count": null,
      "outputs": []
    },
    {
      "cell_type": "code",
      "source": [
        "chat = model.start_chat(history=[])\n",
        "\n",
        "prompt = input(' Esperando prompt/Comando: ')\n",
        "\n",
        "while prompt != \"fim\":\n",
        "  response = chat.send_message(prompt)\n",
        "  print(\"Respostas:\", response.text, '\\n\\n')\n",
        "  prompt = input('Esperando prompt: ')"
      ],
      "metadata": {
        "id": "7ccdJ94JpeVh"
      },
      "execution_count": null,
      "outputs": []
    },
    {
      "cell_type": "code",
      "source": [
        "chat"
      ],
      "metadata": {
        "id": "OQFdxvSPp-UC"
      },
      "execution_count": null,
      "outputs": []
    },
    {
      "cell_type": "code",
      "source": [
        "chat.history"
      ],
      "metadata": {
        "id": "tJvQzPKfqCYW"
      },
      "execution_count": null,
      "outputs": []
    },
    {
      "cell_type": "code",
      "source": [
        "#Melhorando a visualização\n",
        "#Código disponível em https://ai.google.dev/tutorials/python_quickstart#import_packages\n",
        "import textwrap\n",
        "from IPython.display import display\n",
        "from IPython.display import Markdown\n",
        "\n",
        "def to_markdown(text):\n",
        "  text = text.replace('•', '  *')\n",
        "  return Markdown(textwrap.indent(text, '> ', predicate=lambda _: True))\n",
        "\n",
        "#Imprimindo o histórico\n",
        "for message in chat.history:\n",
        "  display(to_markdown(f'**{message.role}**: {message.parts[0].text}'))\n",
        "  print('-------------------------------------------')"
      ],
      "metadata": {
        "colab": {
          "base_uri": "https://localhost:8080/",
          "height": 515
        },
        "id": "SrfpncDrqJ9Q",
        "outputId": "124ebbc3-10f9-4666-ffa2-403f59d8ea52"
      },
      "execution_count": 17,
      "outputs": [
        {
          "output_type": "display_data",
          "data": {
            "text/plain": [
              "<IPython.core.display.Markdown object>"
            ],
            "text/markdown": "> **user**: Quém foi geronimo?"
          },
          "metadata": {}
        },
        {
          "output_type": "stream",
          "name": "stdout",
          "text": [
            "-------------------------------------------\n"
          ]
        },
        {
          "output_type": "display_data",
          "data": {
            "text/plain": [
              "<IPython.core.display.Markdown object>"
            ],
            "text/markdown": "> **model**: Geronimo (1829-1909) foi um líder espiritual e guerreiro apache que lutou contra a expansão dos Estados Unidos no sudoeste.\n> \n> **Vida Precoce:**\n> \n> * Nascido em 1829 em No-Doyohn Canyon, atual Arizona.\n> * Pertenceu à banda Bedonkohe dos Apaches Chiricahua.\n> \n> **Resistência Apache:**\n> \n> * Em 1858, os Estados Unidos deportaram os Apaches para uma reserva no Novo México.\n> * Geronimo liderou vários ataques contra os colonos e militares dos EUA, resistindo à remoção forçada.\n> * Lutou em várias guerras apaches, incluindo a Guerra Apache de 1872-1873 e a Guerra Apache de 1881-1886.\n> \n> **Rendição e Captura:**\n> \n> * Em 1886, Geronimo se rendeu ao general Nelson Miles após uma longa campanha militar.\n> * Ele e seus seguidores foram presos e enviados para a Flórida.\n> \n> **Vida Posterior:**\n> \n> * Geronimo passou o resto de sua vida como prisioneiro de guerra.\n> * Tornou-se uma celebridade e foi exibido em feiras mundiais.\n> * Morreu em 1909 em Fort Sill, Oklahoma.\n> \n> **Legado:**\n> \n> * Geronimo é considerado um símbolo de resistência nativa americana.\n> * Sua luta contra a expansão dos EUA inspirou movimentos de direitos indígenas.\n> * Seu nome tornou-se sinônimo de coragem, determinação e resistência."
          },
          "metadata": {}
        },
        {
          "output_type": "stream",
          "name": "stdout",
          "text": [
            "-------------------------------------------\n"
          ]
        }
      ]
    }
  ]
}
